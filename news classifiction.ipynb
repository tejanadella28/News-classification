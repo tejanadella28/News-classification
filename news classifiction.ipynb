{
 "cells": [
  {
   "cell_type": "markdown",
   "id": "a0cf17e2-4a5e-4ea3-a331-f277336b9295",
   "metadata": {},
   "source": [
    "## Import spacy and do some preprocessing steps"
   ]
  },
  {
   "cell_type": "code",
   "execution_count": 56,
   "id": "e22a307b-c545-4bb0-b451-514ca1b3de6c",
   "metadata": {},
   "outputs": [],
   "source": [
    "import spacy\n",
    "from spacy.lang.en.stop_words import STOP_WORDS"
   ]
  },
  {
   "cell_type": "code",
   "execution_count": 57,
   "id": "72898139-1505-4221-8637-73075bbd597e",
   "metadata": {},
   "outputs": [
    {
     "name": "stdout",
     "output_type": "stream",
     "text": [
      "We\n",
      "just\n",
      "our\n",
      "the\n",
      "part\n",
      "is\n"
     ]
    }
   ],
   "source": [
    "nlp = spacy.load(\"en_core_web_sm\")\n",
    "\n",
    "doc = nlp(\"We just opened our wings, the flying part is coming soon\")\n",
    "for token in doc:\n",
    "    if token.is_stop:\n",
    "        print(token)"
   ]
  },
  {
   "cell_type": "code",
   "execution_count": 59,
   "id": "566d53f1-c731-42ec-bcb5-e4adf20e5448",
   "metadata": {},
   "outputs": [],
   "source": [
    "def preprocess(text):\n",
    "    doc = nlp(text)\n",
    "    no_stop_words = [token.text for token in doc if not token.is_stop]\n",
    "    return \" \".join(no_stop_words)"
   ]
  },
  {
   "cell_type": "markdown",
   "id": "2b62aee4-f9af-4e35-b608-ac6cb27bd8cc",
   "metadata": {},
   "source": [
    "## working on news classifiction dataset"
   ]
  },
  {
   "cell_type": "code",
   "execution_count": 1,
   "id": "7f759dd9-3c9b-4590-a008-986247c662e3",
   "metadata": {},
   "outputs": [],
   "source": [
    "import pandas as pd\n",
    "\n",
    "df = pd.read_json('news_dataset.json')"
   ]
  },
  {
   "cell_type": "code",
   "execution_count": 2,
   "id": "a7418c40-fed6-401e-8ccc-c2c6c29019cf",
   "metadata": {},
   "outputs": [
    {
     "data": {
      "text/html": [
       "<div>\n",
       "<style scoped>\n",
       "    .dataframe tbody tr th:only-of-type {\n",
       "        vertical-align: middle;\n",
       "    }\n",
       "\n",
       "    .dataframe tbody tr th {\n",
       "        vertical-align: top;\n",
       "    }\n",
       "\n",
       "    .dataframe thead th {\n",
       "        text-align: right;\n",
       "    }\n",
       "</style>\n",
       "<table border=\"1\" class=\"dataframe\">\n",
       "  <thead>\n",
       "    <tr style=\"text-align: right;\">\n",
       "      <th></th>\n",
       "      <th>text</th>\n",
       "      <th>category</th>\n",
       "    </tr>\n",
       "  </thead>\n",
       "  <tbody>\n",
       "    <tr>\n",
       "      <th>0</th>\n",
       "      <td>Watching Schrödinger's Cat Die University of C...</td>\n",
       "      <td>SCIENCE</td>\n",
       "    </tr>\n",
       "    <tr>\n",
       "      <th>1</th>\n",
       "      <td>WATCH: Freaky Vortex Opens Up In Flooded Lake</td>\n",
       "      <td>SCIENCE</td>\n",
       "    </tr>\n",
       "    <tr>\n",
       "      <th>2</th>\n",
       "      <td>Entrepreneurs Today Don't Need a Big Budget to...</td>\n",
       "      <td>BUSINESS</td>\n",
       "    </tr>\n",
       "    <tr>\n",
       "      <th>3</th>\n",
       "      <td>These Roads Could Recharge Your Electric Car A...</td>\n",
       "      <td>BUSINESS</td>\n",
       "    </tr>\n",
       "    <tr>\n",
       "      <th>4</th>\n",
       "      <td>Civilian 'Guard' Fires Gun While 'Protecting' ...</td>\n",
       "      <td>CRIME</td>\n",
       "    </tr>\n",
       "  </tbody>\n",
       "</table>\n",
       "</div>"
      ],
      "text/plain": [
       "                                                text  category\n",
       "0  Watching Schrödinger's Cat Die University of C...   SCIENCE\n",
       "1     WATCH: Freaky Vortex Opens Up In Flooded Lake    SCIENCE\n",
       "2  Entrepreneurs Today Don't Need a Big Budget to...  BUSINESS\n",
       "3  These Roads Could Recharge Your Electric Car A...  BUSINESS\n",
       "4  Civilian 'Guard' Fires Gun While 'Protecting' ...     CRIME"
      ]
     },
     "execution_count": 2,
     "metadata": {},
     "output_type": "execute_result"
    }
   ],
   "source": [
    "df.head(5)"
   ]
  },
  {
   "cell_type": "code",
   "execution_count": 3,
   "id": "3b1f0600-c301-40a5-8bdf-de5500ba1694",
   "metadata": {},
   "outputs": [
    {
     "data": {
      "text/plain": [
       "(12695, 2)"
      ]
     },
     "execution_count": 3,
     "metadata": {},
     "output_type": "execute_result"
    }
   ],
   "source": [
    "df.shape"
   ]
  },
  {
   "cell_type": "code",
   "execution_count": 5,
   "id": "168daa94-0f0f-47fe-ad3e-0f34066324f4",
   "metadata": {},
   "outputs": [
    {
     "data": {
      "text/plain": [
       "category\n",
       "BUSINESS    4254\n",
       "SPORTS      4167\n",
       "CRIME       2893\n",
       "SCIENCE     1381\n",
       "Name: count, dtype: int64"
      ]
     },
     "execution_count": 5,
     "metadata": {},
     "output_type": "execute_result"
    }
   ],
   "source": [
    "df['category'].value_counts()"
   ]
  },
  {
   "cell_type": "code",
   "execution_count": 8,
   "id": "c804af51-0175-4cff-970c-37a90823cd54",
   "metadata": {},
   "outputs": [],
   "source": [
    "min_samples = 1381\n",
    "df_bussiness = df[df.category=='BUSINESS'].sample(min_samples , random_state=2022)\n",
    "df_sport = df[df.category=='SPORTS'].sample(min_samples , random_state=2022)\n",
    "df_crime = df[df.category=='CRIME'].sample(min_samples , random_state=2022)\n",
    "df_science = df[df.category=='SCIENCE'].sample(min_samples , random_state=2022)"
   ]
  },
  {
   "cell_type": "code",
   "execution_count": 51,
   "id": "b7e928f7-e954-4abb-9286-8b2c2fc6072b",
   "metadata": {},
   "outputs": [
    {
     "name": "stdout",
     "output_type": "stream",
     "text": [
      "(1381, 2) (1381, 2) (1381, 2) (1381, 2)\n"
     ]
    }
   ],
   "source": [
    "print(df_bussiness.shape,\n",
    "df_sport.shape,\n",
    "df_crime.shape,\n",
    "df_science.shape)"
   ]
  },
  {
   "cell_type": "code",
   "execution_count": 12,
   "id": "e05a3895-8a01-4a6d-bcec-fa834b1e298d",
   "metadata": {},
   "outputs": [],
   "source": [
    "df_balanced = pd.concat([df_bussiness,df_sport,df_crime,df_science], axis=0)"
   ]
  },
  {
   "cell_type": "code",
   "execution_count": 14,
   "id": "6c3e6aae-5edc-47c2-a174-a760f260a83c",
   "metadata": {},
   "outputs": [
    {
     "data": {
      "text/plain": [
       "category\n",
       "BUSINESS    1381\n",
       "SPORTS      1381\n",
       "CRIME       1381\n",
       "SCIENCE     1381\n",
       "Name: count, dtype: int64"
      ]
     },
     "execution_count": 14,
     "metadata": {},
     "output_type": "execute_result"
    }
   ],
   "source": [
    "df_balanced['category'].value_counts()"
   ]
  },
  {
   "cell_type": "code",
   "execution_count": 68,
   "id": "bc6b745e-0b79-48c9-836b-03da41bcfc85",
   "metadata": {},
   "outputs": [],
   "source": [
    "target = {'BUSINESS':0,'SPORTS':1,'CRIME':2,'SCIENCE':3}"
   ]
  },
  {
   "cell_type": "code",
   "execution_count": 15,
   "id": "19bf15ca-0ba3-404b-a043-c59281e12c57",
   "metadata": {},
   "outputs": [],
   "source": [
    "target = {'BUSINESS':0,'SPORTS':1,'CRIME':2,'SCIENCE':3}\n",
    "df_balanced['category_num'] = df_balanced.category.map(target)"
   ]
  },
  {
   "cell_type": "code",
   "execution_count": 16,
   "id": "841e766b-b599-47a7-9270-7c5fd96db1ec",
   "metadata": {},
   "outputs": [
    {
     "data": {
      "text/html": [
       "<div>\n",
       "<style scoped>\n",
       "    .dataframe tbody tr th:only-of-type {\n",
       "        vertical-align: middle;\n",
       "    }\n",
       "\n",
       "    .dataframe tbody tr th {\n",
       "        vertical-align: top;\n",
       "    }\n",
       "\n",
       "    .dataframe thead th {\n",
       "        text-align: right;\n",
       "    }\n",
       "</style>\n",
       "<table border=\"1\" class=\"dataframe\">\n",
       "  <thead>\n",
       "    <tr style=\"text-align: right;\">\n",
       "      <th></th>\n",
       "      <th>text</th>\n",
       "      <th>category</th>\n",
       "      <th>category_num</th>\n",
       "    </tr>\n",
       "  </thead>\n",
       "  <tbody>\n",
       "    <tr>\n",
       "      <th>11967</th>\n",
       "      <td>GCC Business Leaders Remain Confident in the F...</td>\n",
       "      <td>BUSINESS</td>\n",
       "      <td>0</td>\n",
       "    </tr>\n",
       "    <tr>\n",
       "      <th>2912</th>\n",
       "      <td>From the Other Side; an Honest Review from Emp...</td>\n",
       "      <td>BUSINESS</td>\n",
       "      <td>0</td>\n",
       "    </tr>\n",
       "    <tr>\n",
       "      <th>3408</th>\n",
       "      <td>Mike McDerment, CEO of FreshBooks, Talks About...</td>\n",
       "      <td>BUSINESS</td>\n",
       "      <td>0</td>\n",
       "    </tr>\n",
       "    <tr>\n",
       "      <th>502</th>\n",
       "      <td>How to Market Your Business While Traveling th...</td>\n",
       "      <td>BUSINESS</td>\n",
       "      <td>0</td>\n",
       "    </tr>\n",
       "    <tr>\n",
       "      <th>5279</th>\n",
       "      <td>How to Leverage Intuition in Decision-making I...</td>\n",
       "      <td>BUSINESS</td>\n",
       "      <td>0</td>\n",
       "    </tr>\n",
       "  </tbody>\n",
       "</table>\n",
       "</div>"
      ],
      "text/plain": [
       "                                                    text  category  \\\n",
       "11967  GCC Business Leaders Remain Confident in the F...  BUSINESS   \n",
       "2912   From the Other Side; an Honest Review from Emp...  BUSINESS   \n",
       "3408   Mike McDerment, CEO of FreshBooks, Talks About...  BUSINESS   \n",
       "502    How to Market Your Business While Traveling th...  BUSINESS   \n",
       "5279   How to Leverage Intuition in Decision-making I...  BUSINESS   \n",
       "\n",
       "       category_num  \n",
       "11967             0  \n",
       "2912              0  \n",
       "3408              0  \n",
       "502               0  \n",
       "5279              0  "
      ]
     },
     "execution_count": 16,
     "metadata": {},
     "output_type": "execute_result"
    }
   ],
   "source": [
    "df_balanced.head()"
   ]
  },
  {
   "cell_type": "markdown",
   "id": "73df8d4d-f689-4757-995f-506fe61efd55",
   "metadata": {
    "jp-MarkdownHeadingCollapsed": true
   },
   "source": [
    "## Train and test dataset without Preprocessing the data"
   ]
  },
  {
   "cell_type": "code",
   "execution_count": 46,
   "id": "ab9aa17f-cd22-4268-a37a-943baa65f3f8",
   "metadata": {},
   "outputs": [],
   "source": [
    "from sklearn.model_selection import train_test_split\n",
    "X_test,X_train,y_test,y_train = train_test_split(\n",
    "    df_balanced.text,\n",
    "    df_balanced.category_num,\n",
    "    test_size = 0.5,\n",
    "    random_state = 2022,\n",
    "    stratify=df_balanced.category_num\n",
    ")"
   ]
  },
  {
   "cell_type": "code",
   "execution_count": 47,
   "id": "e1fa2599-33b6-4f53-b28b-4f5038e5fc2c",
   "metadata": {},
   "outputs": [
    {
     "name": "stdout",
     "output_type": "stream",
     "text": [
      "(2762,)\n"
     ]
    }
   ],
   "source": [
    "print(X_train.shape)"
   ]
  },
  {
   "cell_type": "code",
   "execution_count": 48,
   "id": "9e27adbc-4801-466d-b4b1-bdc50864932e",
   "metadata": {},
   "outputs": [
    {
     "data": {
      "text/plain": [
       "category_num\n",
       "2    691\n",
       "3    691\n",
       "0    690\n",
       "1    690\n",
       "Name: count, dtype: int64"
      ]
     },
     "execution_count": 48,
     "metadata": {},
     "output_type": "execute_result"
    }
   ],
   "source": [
    "y_test.value_counts()"
   ]
  },
  {
   "cell_type": "code",
   "execution_count": 49,
   "id": "e651d648-f92f-4231-ab6d-ce7ea1316bf1",
   "metadata": {},
   "outputs": [],
   "source": [
    "from sklearn.naive_bayes import MultinomialNB\n",
    "from sklearn.pipeline import Pipeline\n",
    "from sklearn.feature_extraction.text import CountVectorizer\n",
    "from sklearn.metrics import classification_report"
   ]
  },
  {
   "cell_type": "code",
   "execution_count": 50,
   "id": "30e4434c-599d-429a-af28-9ccf4a29b43f",
   "metadata": {},
   "outputs": [
    {
     "name": "stdout",
     "output_type": "stream",
     "text": [
      "              precision    recall  f1-score   support\n",
      "\n",
      "           0       0.66      0.90      0.76       690\n",
      "           1       0.91      0.79      0.84       690\n",
      "           2       0.87      0.88      0.88       691\n",
      "           3       0.91      0.70      0.80       691\n",
      "\n",
      "    accuracy                           0.82      2762\n",
      "   macro avg       0.84      0.82      0.82      2762\n",
      "weighted avg       0.84      0.82      0.82      2762\n",
      "\n"
     ]
    }
   ],
   "source": [
    "clf = Pipeline([\n",
    "        ('Vectorizer_bow',CountVectorizer(ngram_range=(1,2))),\n",
    "        ('Multi NB', MultinomialNB())\n",
    "])   \n",
    "\n",
    "clf.fit(X_train,y_train)\n",
    "y_pred = clf.predict(X_test)\n",
    "print(classification_report(y_test,y_pred))"
   ]
  },
  {
   "cell_type": "code",
   "execution_count": 53,
   "id": "64f88952-1d7d-4887-a8d7-8b29eb420234",
   "metadata": {},
   "outputs": [
    {
     "data": {
      "text/plain": [
       "3616    Police Find Body Of Missing Indiana University...\n",
       "3600    NASA's Commercial Crew Vehicles: Practical But...\n",
       "5626    Here's How To Watch The Geminid Meteor Shower ...\n",
       "7436    Yes, Positive Emotions Really Can Transform Yo...\n",
       "5582    Getting Off the Linear Career Track It can be ...\n",
       "Name: text, dtype: object"
      ]
     },
     "execution_count": 53,
     "metadata": {},
     "output_type": "execute_result"
    }
   ],
   "source": [
    "X_test[:5]"
   ]
  },
  {
   "cell_type": "code",
   "execution_count": 54,
   "id": "a79013a3-9523-46ca-adf7-99179ac713db",
   "metadata": {},
   "outputs": [
    {
     "data": {
      "text/plain": [
       "3616    2\n",
       "3600    3\n",
       "5626    3\n",
       "7436    3\n",
       "5582    0\n",
       "Name: category_num, dtype: int64"
      ]
     },
     "execution_count": 54,
     "metadata": {},
     "output_type": "execute_result"
    }
   ],
   "source": [
    "y_test[:5]"
   ]
  },
  {
   "cell_type": "code",
   "execution_count": null,
   "id": "7804eee7-a96e-4b00-bb2a-0755ba5c281e",
   "metadata": {},
   "outputs": [],
   "source": []
  },
  {
   "cell_type": "code",
   "execution_count": 55,
   "id": "fb936923-ac90-41b5-82d2-b6599380b4b7",
   "metadata": {},
   "outputs": [
    {
     "data": {
      "text/plain": [
       "array([2, 3, 3, 0, 0], dtype=int64)"
      ]
     },
     "execution_count": 55,
     "metadata": {},
     "output_type": "execute_result"
    }
   ],
   "source": [
    "y_pred[:5]"
   ]
  },
  {
   "cell_type": "markdown",
   "id": "69751d58-661a-494b-8c7a-0149d95b9488",
   "metadata": {
    "jp-MarkdownHeadingCollapsed": true
   },
   "source": [
    "## Train and test the dataset after Some preprocessing text"
   ]
  },
  {
   "cell_type": "code",
   "execution_count": 60,
   "id": "c46c3e2c-3b71-471f-b6b0-53e2e0ad0c0b",
   "metadata": {},
   "outputs": [],
   "source": [
    "df_balanced['preprocessed_text'] = df_balanced.text.apply(preprocess)"
   ]
  },
  {
   "cell_type": "code",
   "execution_count": 62,
   "id": "8ca47fe9-4c36-4030-aff7-8392a5854420",
   "metadata": {},
   "outputs": [],
   "source": [
    "from sklearn.model_selection import train_test_split\n",
    "X_test,X_train,y_test,y_train = train_test_split(\n",
    "    df_balanced.preprocessed_text,\n",
    "    df_balanced.category_num,\n",
    "    test_size = 0.5,\n",
    "    random_state = 2022,\n",
    "    stratify=df_balanced.category_num\n",
    ")"
   ]
  },
  {
   "cell_type": "code",
   "execution_count": 63,
   "id": "f72897bb-a51c-4bef-8ae7-2de98a11ee4b",
   "metadata": {},
   "outputs": [
    {
     "name": "stdout",
     "output_type": "stream",
     "text": [
      "              precision    recall  f1-score   support\n",
      "\n",
      "           0       0.82      0.88      0.85       690\n",
      "           1       0.90      0.87      0.88       690\n",
      "           2       0.85      0.92      0.88       691\n",
      "           3       0.92      0.79      0.85       691\n",
      "\n",
      "    accuracy                           0.87      2762\n",
      "   macro avg       0.87      0.87      0.87      2762\n",
      "weighted avg       0.87      0.87      0.87      2762\n",
      "\n"
     ]
    }
   ],
   "source": [
    "clf = Pipeline([\n",
    "        ('Vectorizer_bow',CountVectorizer(ngram_range=(1,2))),\n",
    "        ('Multi NB', MultinomialNB())\n",
    "])   \n",
    "\n",
    "clf.fit(X_train,y_train)\n",
    "y_pred = clf.predict(X_test)\n",
    "print(classification_report(y_test,y_pred))"
   ]
  },
  {
   "cell_type": "code",
   "execution_count": 64,
   "id": "831ffefb-9ee2-402c-ad57-b87e62051ddc",
   "metadata": {},
   "outputs": [
    {
     "data": {
      "text/plain": [
       "3616    Police Find Body Missing Indiana University St...\n",
       "3600       NASA Commercial Crew Vehicles : Practical Sexy\n",
       "5626            Watch Geminid Meteor Shower long cloudy .\n",
       "7436             Yes , Positive Emotions Transform Health\n",
       "5582    Getting Linear Career Track nerve - wracking w...\n",
       "Name: preprocessed_text, dtype: object"
      ]
     },
     "execution_count": 64,
     "metadata": {},
     "output_type": "execute_result"
    }
   ],
   "source": [
    "X_test[:5]"
   ]
  },
  {
   "cell_type": "code",
   "execution_count": 66,
   "id": "cb4f4cf8-1396-4abd-b937-44349145db11",
   "metadata": {},
   "outputs": [
    {
     "data": {
      "text/plain": [
       "3616    2\n",
       "3600    3\n",
       "5626    3\n",
       "7436    3\n",
       "5582    0\n",
       "Name: category_num, dtype: int64"
      ]
     },
     "execution_count": 66,
     "metadata": {},
     "output_type": "execute_result"
    }
   ],
   "source": [
    "y_test[:5]"
   ]
  },
  {
   "cell_type": "code",
   "execution_count": 65,
   "id": "10576e93-f68e-4b07-8393-c904465f06ff",
   "metadata": {},
   "outputs": [
    {
     "data": {
      "text/plain": [
       "array([2, 3, 3, 0, 0], dtype=int64)"
      ]
     },
     "execution_count": 65,
     "metadata": {},
     "output_type": "execute_result"
    }
   ],
   "source": [
    "y_pred[:5]"
   ]
  },
  {
   "cell_type": "code",
   "execution_count": null,
   "id": "82264257-cd22-4eb0-a278-97e41a1a31f9",
   "metadata": {},
   "outputs": [],
   "source": []
  }
 ],
 "metadata": {
  "kernelspec": {
   "display_name": "Python 3 (ipykernel)",
   "language": "python",
   "name": "python3"
  },
  "language_info": {
   "codemirror_mode": {
    "name": "ipython",
    "version": 3
   },
   "file_extension": ".py",
   "mimetype": "text/x-python",
   "name": "python",
   "nbconvert_exporter": "python",
   "pygments_lexer": "ipython3",
   "version": "3.12.7"
  }
 },
 "nbformat": 4,
 "nbformat_minor": 5
}
